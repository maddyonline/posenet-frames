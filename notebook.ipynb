{
  "cells": [
    {
      "cell_type": "markdown",
      "source": "# Posenet Tutorial\n\nTensorflow.js model `PoseNet` allows one to detect 2-dimensional human pose in real-time right in the browser. Check out their [github repo](https://github.com/jscriptcoder/tfjs-posenet) for details.\n\nIf you use it in your project and \"record\" a session of the detected keypoints, you will end up with an array of \"frames\" where each frame is a pose. This is what we will analyze in this tutorial. To make this self-contained, we are going to use a public dataset as described below.",
      "metadata": {
        "tags": [],
        "cell_id": "00001-149ae436-4357-481d-8d77-68a90a6dc172",
        "deepnote_cell_type": "markdown"
      }
    },
    {
      "cell_type": "code",
      "metadata": {
        "tags": [],
        "cell_id": "00000-9b550dc0-7279-47c7-a212-d5f46a33fc4a",
        "deepnote_to_be_reexecuted": false,
        "source_hash": "9cfe3aba",
        "execution_millis": 4,
        "execution_start": 1616816923834,
        "deepnote_cell_type": "code"
      },
      "source": "data_url = (\n    \"https://raw.githubusercontent.com/maddyonline/posenet-frames/main/frames.json\"\n)\n",
      "execution_count": 2,
      "outputs": []
    },
    {
      "cell_type": "code",
      "metadata": {
        "tags": [],
        "cell_id": "00001-97df94f6-e279-4902-8b02-378a8d3ee866",
        "deepnote_to_be_reexecuted": false,
        "source_hash": "769c9c9b",
        "execution_millis": 161,
        "execution_start": 1616816924475,
        "deepnote_cell_type": "code"
      },
      "source": "import requests\nimport json\ndata = json.loads(requests.get(data_url).text)",
      "execution_count": 3,
      "outputs": []
    },
    {
      "cell_type": "code",
      "metadata": {
        "tags": [],
        "cell_id": "00002-14b8b131-2195-45ea-adb8-51adfded4452",
        "deepnote_to_be_reexecuted": false,
        "source_hash": "5b85900b",
        "execution_millis": 24,
        "execution_start": 1616816925201,
        "deepnote_cell_type": "code"
      },
      "source": "# data is essentially of the following shape\n# {\"frames\": [{},{}, ..., {}]}\n\ndata.keys(), len(data['frames'])",
      "execution_count": 4,
      "outputs": [
        {
          "output_type": "execute_result",
          "execution_count": 4,
          "data": {
            "text/plain": "(dict_keys(['frames']), 357)"
          },
          "metadata": {}
        }
      ]
    },
    {
      "cell_type": "code",
      "metadata": {
        "tags": [],
        "cell_id": "00003-9c8014c2-0a98-4d95-83cc-ba1854d69cc7",
        "deepnote_to_be_reexecuted": false,
        "source_hash": "41a2811e",
        "execution_millis": 7,
        "execution_start": 1616816926999,
        "deepnote_cell_type": "code"
      },
      "source": "# Here each array element represents a frame and contains keypoints of detected pose \n# together with score which represents the confidence of prediction\n\ndata['frames'][10]['score'], data['frames'][10]['keypoints'][:5]",
      "execution_count": 5,
      "outputs": [
        {
          "output_type": "execute_result",
          "execution_count": 5,
          "data": {
            "text/plain": "(0.8093167030636002,\n [{'score': 0.9991793036460876,\n   'part': 'nose',\n   'position': {'x': 407.1552302141598, 'y': 120.41525644087142}},\n  {'score': 0.9978790283203125,\n   'part': 'leftEye',\n   'position': {'x': 397.6652344581218, 'y': 109.77402030262039}},\n  {'score': 0.995159924030304,\n   'part': 'rightEye',\n   'position': {'x': 419.6274877169717, 'y': 109.20874569666526}},\n  {'score': 0.8933783173561096,\n   'part': 'leftEar',\n   'position': {'x': 380.91065450586694, 'y': 123.687608177096}},\n  {'score': 0.7928388118743896,\n   'part': 'rightEar',\n   'position': {'x': 434.38514727284473, 'y': 117.7815080338415}}])"
          },
          "metadata": {}
        }
      ]
    },
    {
      "cell_type": "code",
      "metadata": {
        "tags": [],
        "cell_id": "00005-4d0a88b7-ff6c-438b-9af0-92b1187b5683",
        "deepnote_to_be_reexecuted": false,
        "source_hash": "369a0009",
        "execution_millis": 6,
        "execution_start": 1616816928239,
        "deepnote_cell_type": "code"
      },
      "source": "# there are a total of 17 keypoints\n\nlen(data['frames'][10]['keypoints'])",
      "execution_count": 6,
      "outputs": [
        {
          "output_type": "execute_result",
          "execution_count": 6,
          "data": {
            "text/plain": "17"
          },
          "metadata": {}
        }
      ]
    },
    {
      "cell_type": "code",
      "metadata": {
        "tags": [],
        "cell_id": "00006-b532cfa7-234f-4a99-9e7d-80311ca2d3b1",
        "deepnote_to_be_reexecuted": false,
        "source_hash": "e20e93d3",
        "execution_millis": 21,
        "execution_start": 1616817513946,
        "deepnote_cell_type": "code"
      },
      "source": "[kp['part'] for kp in data['frames'][10]['keypoints']]\n",
      "execution_count": 29,
      "outputs": [
        {
          "output_type": "execute_result",
          "execution_count": 29,
          "data": {
            "text/plain": "['nose',\n 'leftEye',\n 'rightEye',\n 'leftEar',\n 'rightEar',\n 'leftShoulder',\n 'rightShoulder',\n 'leftElbow',\n 'rightElbow',\n 'leftWrist',\n 'rightWrist',\n 'leftHip',\n 'rightHip',\n 'leftKnee',\n 'rightKnee',\n 'leftAnkle',\n 'rightAnkle']"
          },
          "metadata": {}
        }
      ]
    },
    {
      "cell_type": "code",
      "source": "# let us focus on a specific frame namely the 10th frame\n\n\n\n\n# let us assemble (confidence) score for each of the 17 parts that is detectec\n# We use the variable 'kps' to refer to keypoints-scores\n\nkps = kps = [kp['score'] for kp in data['frames'][10]['keypoints']]\nlen(kps), kps",
      "metadata": {
        "tags": [],
        "cell_id": "00013-b8ed48e4-e611-4f5e-830b-8096d74799ec",
        "deepnote_to_be_reexecuted": false,
        "source_hash": "823894cc",
        "execution_millis": 5,
        "execution_start": 1616817514283,
        "deepnote_cell_type": "code"
      },
      "outputs": [
        {
          "output_type": "execute_result",
          "execution_count": 30,
          "data": {
            "text/plain": "(17,\n [0.9991793036460876,\n  0.9978790283203125,\n  0.995159924030304,\n  0.8933783173561096,\n  0.7928388118743896,\n  0.995917022228241,\n  0.9966772794723511,\n  0.9944100975990295,\n  0.9921382069587708,\n  0.9832354784011841,\n  0.9663960933685303,\n  0.9475935697555542,\n  0.9950150847434998,\n  0.5011693835258484,\n  0.5367682576179504,\n  0.09801270812749863,\n  0.07261538505554199])"
          },
          "metadata": {}
        }
      ],
      "execution_count": 30
    },
    {
      "cell_type": "code",
      "source": "import numpy as np\n\n# Let us create a list of these keypoints and which part connects to which\n# Taken from github.com//...\nPART_NAMES = [\n    \"nose\", \"leftEye\", \"rightEye\", \"leftEar\", \"rightEar\", \"leftShoulder\",\n    \"rightShoulder\", \"leftElbow\", \"rightElbow\", \"leftWrist\", \"rightWrist\",\n    \"leftHip\", \"rightHip\", \"leftKnee\", \"rightKnee\", \"leftAnkle\", \"rightAnkle\"\n]\n\nNUM_KEYPOINTS = len(PART_NAMES)\n\nPART_IDS = {pn: pid for pid, pn in enumerate(PART_NAMES)}\n\nCONNECTED_PART_NAMES = [\n    (\"leftHip\", \"leftShoulder\"), (\"leftElbow\", \"leftShoulder\"),\n    (\"leftElbow\", \"leftWrist\"), (\"leftHip\", \"leftKnee\"),\n    (\"leftKnee\", \"leftAnkle\"), (\"rightHip\", \"rightShoulder\"),\n    (\"rightElbow\", \"rightShoulder\"), (\"rightElbow\", \"rightWrist\"),\n    (\"rightHip\", \"rightKnee\"), (\"rightKnee\", \"rightAnkle\"),\n    (\"leftShoulder\", \"rightShoulder\"), (\"leftHip\", \"rightHip\")\n]\nCONNECTED_PART_INDICES = np.array([(PART_IDS[a], PART_IDS[b]) for a, b in CONNECTED_PART_NAMES])\n\n# CONNECTED_PART_INDICES gives the indices of which keypoint to connect to which keypoint\n# So for exmpale, (11, 5) means that 11th keypoint is adjacent to 5th keypoint.\n\n# We see that there are potentially 12 adjacent keypoints or \"edges\" in our representation#\n\nCONNECTED_PART_INDICES, CONNECTED_PART_INDICES.shape",
      "metadata": {
        "tags": [],
        "cell_id": "00012-d855321c-4b73-4bd2-8aad-06cf3b1ea63d",
        "deepnote_to_be_reexecuted": false,
        "source_hash": "5d03844e",
        "execution_millis": 7,
        "execution_start": 1616817797148,
        "deepnote_cell_type": "code"
      },
      "outputs": [
        {
          "output_type": "execute_result",
          "execution_count": 51,
          "data": {
            "text/plain": "(array([[11,  5],\n        [ 7,  5],\n        [ 7,  9],\n        [11, 13],\n        [13, 15],\n        [12,  6],\n        [ 8,  6],\n        [ 8, 10],\n        [12, 14],\n        [14, 16],\n        [ 5,  6],\n        [11, 12]]),\n (12, 2))"
          },
          "metadata": {}
        }
      ],
      "execution_count": 51
    },
    {
      "cell_type": "code",
      "source": "# Out of these 12, we only keep those edges for which we have high confidence.\n# For every edge such as (\"leftHip\", \"leftShoulder\") we want to connect them\n# if and only if both score(\"leftHip\") and score(\"leftShoulder\") are high.",
      "metadata": {
        "tags": [],
        "cell_id": "00012-da5bdac8-e429-4265-b8e9-4838a57ac4d2",
        "deepnote_to_be_reexecuted": false,
        "source_hash": "877f025",
        "execution_start": 1616817537084,
        "execution_millis": 3,
        "deepnote_cell_type": "code"
      },
      "outputs": [],
      "execution_count": 32
    },
    {
      "cell_type": "code",
      "source": "scores_on_adjacent_points = np.vstack([\n    np.take(kps, np.array(CONNECTED_PART_INDICES)[:, 0]), \n    np.take(kps, np.array(CONNECTED_PART_INDICES)[:, 1])\n    ]).T",
      "metadata": {
        "tags": [],
        "cell_id": "00010-cfb47031-4538-4030-9a48-a79d2432b626",
        "deepnote_to_be_reexecuted": false,
        "source_hash": "62c69d0e",
        "execution_millis": 3,
        "execution_start": 1616817576256,
        "deepnote_cell_type": "code"
      },
      "outputs": [],
      "execution_count": 37
    },
    {
      "cell_type": "code",
      "source": "# this variable replaces CONNECTED_PART_INDICES pairs with the scores\n# So for example, (11, 5) => [score(11-th keypoint), score(5-th keypoint)]\nscores_on_adjacent_points, scores_on_adjacent_points.shape",
      "metadata": {
        "tags": [],
        "cell_id": "00011-6e93c24f-7269-4352-bc8a-edf249ad9a65",
        "deepnote_to_be_reexecuted": false,
        "source_hash": "13e6c17b",
        "execution_millis": 6,
        "execution_start": 1616817652349,
        "deepnote_cell_type": "code"
      },
      "outputs": [
        {
          "output_type": "execute_result",
          "execution_count": 41,
          "data": {
            "text/plain": "(array([[0.94759357, 0.99591702],\n        [0.9944101 , 0.99591702],\n        [0.9944101 , 0.98323548],\n        [0.94759357, 0.50116938],\n        [0.50116938, 0.09801271],\n        [0.99501508, 0.99667728],\n        [0.99213821, 0.99667728],\n        [0.99213821, 0.96639609],\n        [0.99501508, 0.53676826],\n        [0.53676826, 0.07261539],\n        [0.99591702, 0.99667728],\n        [0.94759357, 0.99501508]]),\n (12, 2))"
          },
          "metadata": {}
        }
      ],
      "execution_count": 41
    },
    {
      "cell_type": "code",
      "source": "# Recall we want to only keep rows in `scores_on_adjacent_points` where both entries are high\n# That is minimum of the two entries is above a threshold (say 0.5)\n\nnp.min(scores_on_adjacent_points, axis=1)",
      "metadata": {
        "tags": [],
        "cell_id": "00012-00116a83-136d-4722-a0df-07fd5dee2588",
        "deepnote_to_be_reexecuted": false,
        "source_hash": "bf014c56",
        "execution_millis": 14,
        "execution_start": 1616817748029,
        "deepnote_cell_type": "code"
      },
      "outputs": [
        {
          "output_type": "execute_result",
          "execution_count": 48,
          "data": {
            "text/plain": "array([0.94759357, 0.9944101 , 0.98323548, 0.50116938, 0.09801271,\n       0.99501508, 0.99213821, 0.96639609, 0.53676826, 0.07261539,\n       0.99591702, 0.94759357])"
          },
          "metadata": {}
        }
      ],
      "execution_count": 48
    },
    {
      "cell_type": "code",
      "source": "np.min(scores_on_adjacent_points, axis=1) > 0.5",
      "metadata": {
        "tags": [],
        "cell_id": "00013-843485cc-13f6-410d-800b-6c2f41e3e005",
        "deepnote_to_be_reexecuted": false,
        "source_hash": "631782f2",
        "execution_millis": 6,
        "execution_start": 1616817759755,
        "deepnote_cell_type": "code"
      },
      "outputs": [
        {
          "output_type": "execute_result",
          "execution_count": 50,
          "data": {
            "text/plain": "array([ True,  True,  True,  True, False,  True,  True,  True,  True,\n       False,  True,  True])"
          },
          "metadata": {}
        }
      ],
      "execution_count": 50
    },
    {
      "cell_type": "code",
      "source": "# selecting relevant indices (we see only 10 out of 12 rows remain)\n\nrelevant = np.min(scores_on_adjacent_points, axis=1) > 0.5\nhigh_confidence_visible_adjacent_parts = CONNECTED_PART_INDICES[relevant]\nhigh_confidence_visible_adjacent_parts, high_confidence_visible_adjacent_parts.shape",
      "metadata": {
        "tags": [],
        "cell_id": "00014-3ad7979f-9538-4fbc-b01c-662dc9d0dcc7",
        "deepnote_to_be_reexecuted": false,
        "source_hash": "44f5f059",
        "execution_millis": 39,
        "execution_start": 1616818006520,
        "deepnote_cell_type": "code"
      },
      "outputs": [
        {
          "output_type": "execute_result",
          "execution_count": 56,
          "data": {
            "text/plain": "(array([[11,  5],\n        [ 7,  5],\n        [ 7,  9],\n        [11, 13],\n        [12,  6],\n        [ 8,  6],\n        [ 8, 10],\n        [12, 14],\n        [ 5,  6],\n        [11, 12]]),\n (10, 2))"
          },
          "metadata": {}
        }
      ],
      "execution_count": 56
    },
    {
      "cell_type": "code",
      "source": "# Now our goal is to replace each of these keypoint indices with their actual x,y coordinates\n# That is, we want to replace [11, 5] => with [[x1,y1], [x2, y2]]  \n# where (x1, y1) are coordinaes for joint-11 and (x2, y2) are coordinates for joint-5\n# Let us call [x1, y1] as \"start\" and [x2, y2] as \"end\" representing start and end of a line-segment",
      "metadata": {
        "tags": [],
        "cell_id": "00015-121268bd-592a-48f3-b5c7-22aad8bd3261",
        "deepnote_to_be_reexecuted": false,
        "source_hash": "2d7e5143",
        "execution_millis": 1,
        "execution_start": 1616818051844,
        "deepnote_cell_type": "code"
      },
      "outputs": [],
      "execution_count": 57
    },
    {
      "cell_type": "code",
      "source": "# These are the joint/keypoint indices for \"start\" points\nhigh_confidence_visible_adjacent_parts[:, 0]",
      "metadata": {
        "tags": [],
        "cell_id": "00016-43670f9f-815c-4656-b7a5-588d47897fcc",
        "deepnote_to_be_reexecuted": false,
        "source_hash": "210d8109",
        "execution_millis": 45,
        "execution_start": 1616818114336,
        "deepnote_cell_type": "code"
      },
      "outputs": [
        {
          "output_type": "execute_result",
          "execution_count": 62,
          "data": {
            "text/plain": "array([11,  7,  7, 11, 12,  8,  8, 12,  5, 11])"
          },
          "metadata": {}
        }
      ],
      "execution_count": 62
    },
    {
      "cell_type": "code",
      "source": "# These are the joint/keypoint indices for \"end\" points\nhigh_confidence_visible_adjacent_parts[:, 1]",
      "metadata": {
        "tags": [],
        "cell_id": "00017-b309d984-9dc2-45b0-9e18-5f71bcf0a5df",
        "deepnote_to_be_reexecuted": false,
        "source_hash": "a00210fa",
        "execution_millis": 7,
        "execution_start": 1616818115022,
        "deepnote_cell_type": "code"
      },
      "outputs": [
        {
          "output_type": "execute_result",
          "execution_count": 63,
          "data": {
            "text/plain": "array([ 5,  5,  9, 13,  6,  6, 10, 14,  6, 12])"
          },
          "metadata": {}
        }
      ],
      "execution_count": 63
    },
    {
      "cell_type": "code",
      "source": "# Before this let us get all frames keypoints in an array\ndef get_landmark_coordinates(keypoints):\n    return np.array([[landmark['position']['x'], landmark['position']['y']] for landmark in keypoints])\n\nframes_arr = np.array([get_landmark_coordinates(frame['keypoints']) for frame in data['frames']])",
      "metadata": {
        "tags": [],
        "cell_id": "00018-01d475fe-f631-43e1-9fda-aab5d1478c3b",
        "deepnote_to_be_reexecuted": false,
        "source_hash": "3b567032",
        "execution_millis": 0,
        "execution_start": 1616818290714,
        "deepnote_cell_type": "code"
      },
      "outputs": [],
      "execution_count": 69
    },
    {
      "cell_type": "code",
      "source": "# this represents the 17 keypoints x-y coordinates for all 357 frames\nframes_arr.shape",
      "metadata": {
        "tags": [],
        "cell_id": "00019-53472d57-8227-454a-a88b-07eee201cb98",
        "deepnote_to_be_reexecuted": false,
        "source_hash": "8d747746",
        "execution_millis": 83,
        "execution_start": 1616818332895,
        "deepnote_cell_type": "code"
      },
      "outputs": [
        {
          "output_type": "execute_result",
          "execution_count": 71,
          "data": {
            "text/plain": "(357, 17, 2)"
          },
          "metadata": {}
        }
      ],
      "execution_count": 71
    },
    {
      "cell_type": "code",
      "source": "# Coming back to start/end array described above\n\nstart = np.take(frames_arr[10], high_confidence_visible_adjacent_parts[:, 0], axis=0)\n\nstart, start.shape\n",
      "metadata": {
        "tags": [],
        "cell_id": "00020-5e4fdd8f-8446-4e6e-9d4c-b64883fe12c4",
        "deepnote_to_be_reexecuted": false,
        "source_hash": "ec1a26ed",
        "execution_millis": 9,
        "execution_start": 1616818378083,
        "deepnote_cell_type": "code"
      },
      "outputs": [
        {
          "output_type": "execute_result",
          "execution_count": 74,
          "data": {
            "text/plain": "(array([[377.38682063, 377.64601533],\n        [294.07215448, 249.62049551],\n        [294.07215448, 249.62049551],\n        [377.38682063, 377.64601533],\n        [459.39856076, 375.88835839],\n        [516.10919718, 284.24739437],\n        [516.10919718, 284.24739437],\n        [459.39856076, 375.88835839],\n        [349.77654056, 194.69656503],\n        [377.38682063, 377.64601533]]),\n (10, 2))"
          },
          "metadata": {}
        }
      ],
      "execution_count": 74
    },
    {
      "cell_type": "code",
      "source": "end = np.take(frames_arr[10], high_confidence_visible_adjacent_parts[:, 1], axis=0)\n\nend, end.shape",
      "metadata": {
        "tags": [],
        "cell_id": "00021-88991884-9b40-44a6-be59-82d79016eb47",
        "deepnote_to_be_reexecuted": false,
        "source_hash": "8627ba84",
        "execution_start": 1616818400644,
        "execution_millis": 9,
        "deepnote_cell_type": "code"
      },
      "outputs": [
        {
          "output_type": "execute_result",
          "execution_count": 75,
          "data": {
            "text/plain": "(array([[349.77654056, 194.69656503],\n        [349.77654056, 194.69656503],\n        [314.73922124, 302.51949325],\n        [400.35234695, 530.79847046],\n        [465.91592918, 192.37962003],\n        [465.91592918, 192.37962003],\n        [491.12625585, 301.87612452],\n        [477.52848988, 532.84218517],\n        [465.91592918, 192.37962003],\n        [459.39856076, 375.88835839]]),\n (10, 2))"
          },
          "metadata": {}
        }
      ],
      "execution_count": 75
    },
    {
      "cell_type": "code",
      "source": "# Line segments that we need to join\n\nsegments = np.hstack([start, end]).reshape((10, 2, 2))\nsegments, segments.shape",
      "metadata": {
        "tags": [],
        "cell_id": "00022-c50111b4-39c6-4746-8c5a-0bc823ec915e",
        "deepnote_to_be_reexecuted": false,
        "source_hash": "53c161f4",
        "execution_start": 1616818458681,
        "execution_millis": 7,
        "deepnote_cell_type": "code"
      },
      "outputs": [
        {
          "output_type": "execute_result",
          "execution_count": 76,
          "data": {
            "text/plain": "(array([[[377.38682063, 377.64601533],\n         [349.77654056, 194.69656503]],\n \n        [[294.07215448, 249.62049551],\n         [349.77654056, 194.69656503]],\n \n        [[294.07215448, 249.62049551],\n         [314.73922124, 302.51949325]],\n \n        [[377.38682063, 377.64601533],\n         [400.35234695, 530.79847046]],\n \n        [[459.39856076, 375.88835839],\n         [465.91592918, 192.37962003]],\n \n        [[516.10919718, 284.24739437],\n         [465.91592918, 192.37962003]],\n \n        [[516.10919718, 284.24739437],\n         [491.12625585, 301.87612452]],\n \n        [[459.39856076, 375.88835839],\n         [477.52848988, 532.84218517]],\n \n        [[349.77654056, 194.69656503],\n         [465.91592918, 192.37962003]],\n \n        [[377.38682063, 377.64601533],\n         [459.39856076, 375.88835839]]]),\n (10, 2, 2))"
          },
          "metadata": {}
        }
      ],
      "execution_count": 76
    },
    {
      "cell_type": "code",
      "source": "from matplotlib.lines import Line2D\nfrom matplotlib.collections import LineCollection\nimport matplotlib.pyplot as plt\n\ncollection = LineCollection(segments)\n\nfig, ax = plt.subplots()\nax.add_collection(collection)\nax.plot(frames_arr[10][:, 0], frames_arr[10][:, 1], 'ro')\nax.set_xlim(0, 800)\nax.set_ylim(-100, 800)\nplt.gca().invert_yaxis()\nplt.show()",
      "metadata": {
        "tags": [],
        "cell_id": "00023-96ebf2e4-3810-4ceb-a17b-df270f13f884",
        "deepnote_to_be_reexecuted": false,
        "source_hash": "12f8aa0e",
        "execution_millis": 3476,
        "execution_start": 1616818509675,
        "deepnote_cell_type": "code"
      },
      "outputs": [
        {
          "data": {
            "text/plain": "<Figure size 432x288 with 1 Axes>",
            "image/png": "[encoded data removed]"
          },
          "metadata": {
            "needs_background": "light"
          },
          "output_type": "display_data"
        }
      ],
      "execution_count": 78
    },
    {
      "cell_type": "code",
      "source": "",
      "metadata": {
        "tags": [],
        "cell_id": "00024-e011db96-c960-4111-91f4-117d8ce92da1",
        "deepnote_cell_type": "code"
      },
      "outputs": [],
      "execution_count": null
    },
    {
      "cell_type": "markdown",
      "source": "<a style='text-decoration:none;line-height:16px;display:flex;color:#5B5B62;padding:10px;justify-content:end;' href='https://deepnote.com?utm_source=created-in-deepnote-cell&projectId=7de08bbf-2a1e-4d1b-b678-13b0eb1146b3' target=\"_blank\">\n<img style='display:inline;max-height:16px;margin:0px;margin-right:7.5px;' src='data:image/svg+xml;base64,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' > </img>\nCreated in <span style='font-weight:600;margin-left:4px;'>Deepnote</span></a>",
      "metadata": {
        "tags": [],
        "created_in_deepnote_cell": true,
        "deepnote_cell_type": "markdown"
      }
    }
  ],
  "nbformat": 4,
  "nbformat_minor": 2,
  "metadata": {
    "orig_nbformat": 2,
    "deepnote_notebook_id": "326b641f-ef21-49df-99ad-984816496a0e",
    "deepnote": {},
    "deepnote_execution_queue": []
  }
}